{
 "cells": [
  {
   "cell_type": "markdown",
   "metadata": {
    "colab_type": "text",
    "id": "r3cas2_1T98w"
   },
   "source": [
    "# Decision Tree Regression"
   ]
  },
  {
   "cell_type": "markdown",
   "metadata": {
    "colab_type": "text",
    "id": "IODliia6U1xO"
   },
   "source": [
    "## Importing the libraries"
   ]
  },
  {
   "cell_type": "code",
   "execution_count": 1,
   "metadata": {
    "colab": {},
    "colab_type": "code",
    "id": "y98nA5UdU6Hf"
   },
   "outputs": [],
   "source": [
    "import numpy as np\n",
    "import matplotlib.pyplot as plt\n",
    "import pandas as pd"
   ]
  },
  {
   "cell_type": "markdown",
   "metadata": {
    "colab_type": "text",
    "id": "jpjZ43YlU8eI"
   },
   "source": [
    "## Importing the dataset"
   ]
  },
  {
   "cell_type": "code",
   "execution_count": 2,
   "metadata": {
    "colab": {},
    "colab_type": "code",
    "id": "pLVaXoYVU_Uy"
   },
   "outputs": [],
   "source": [
    "dataset = pd.read_csv('Data_E_Peak.csv')\n",
    "X = dataset.iloc[:, :-1].values\n",
    "y = dataset.iloc[:, -1].values"
   ]
  },
  {
   "cell_type": "markdown",
   "metadata": {
    "colab_type": "text",
    "id": "tPJXMyyUJbWn"
   },
   "source": [
    "## Splitting the dataset into the Training set and Test set"
   ]
  },
  {
   "cell_type": "code",
   "execution_count": 3,
   "metadata": {
    "colab": {},
    "colab_type": "code",
    "id": "rFOzpjaiJd5B"
   },
   "outputs": [],
   "source": [
    "from sklearn.model_selection import train_test_split\n",
    "X_train, X_test, y_train, y_test = train_test_split(X, y, test_size = 0.2, random_state = 0)"
   ]
  },
  {
   "cell_type": "markdown",
   "metadata": {
    "colab_type": "text",
    "id": "g16qFkFQVC35"
   },
   "source": [
    "## Training the Decision Tree Regression model on the Training set"
   ]
  },
  {
   "cell_type": "code",
   "execution_count": 4,
   "metadata": {
    "colab": {},
    "colab_type": "code",
    "id": "SLDKyv1SVUqS"
   },
   "outputs": [
    {
     "data": {
      "text/plain": [
       "DecisionTreeRegressor(random_state=0)"
      ]
     },
     "execution_count": 4,
     "metadata": {},
     "output_type": "execute_result"
    }
   ],
   "source": [
    "from sklearn.tree import DecisionTreeRegressor\n",
    "regressor = DecisionTreeRegressor(random_state = 0)\n",
    "regressor.fit(X_train, y_train)"
   ]
  },
  {
   "cell_type": "markdown",
   "metadata": {
    "colab_type": "text",
    "id": "Nao9cdO6IgNb"
   },
   "source": [
    "## Predicting the Test set results"
   ]
  },
  {
   "cell_type": "code",
   "execution_count": 7,
   "metadata": {
    "colab": {},
    "colab_type": "code",
    "id": "EebHA3EOIkQK"
   },
   "outputs": [
    {
     "name": "stdout",
     "output_type": "stream",
     "text": [
      "[[ 6.5  28.16 28.3 ]\n",
      " [13.5  34.58 34.65]\n",
      " [36.   43.19 43.17]\n",
      " [18.6  37.38 37.43]\n",
      " [29.5  41.47 41.44]\n",
      " [22.4  39.01 39.05]\n",
      " [31.6  42.01 42.03]\n",
      " [29.4  41.35 41.41]\n",
      " [11.1  33.03 32.95]\n",
      " [20.7  38.4  38.36]\n",
      " [15.3  35.79 35.74]\n",
      " [ 4.8  25.85 25.67]\n",
      " [13.3  34.58 34.52]\n",
      " [31.8  42.06 42.09]\n",
      " [25.8  40.24 40.27]\n",
      " [ 7.   28.82 28.94]\n",
      " [ 7.9  29.88 29.99]\n",
      " [17.9  37.05 37.1 ]\n",
      " [26.6  40.51 40.54]\n",
      " [ 6.3  28.16 28.03]\n",
      " [33.7  42.62 42.59]\n",
      " [25.6  40.17 40.21]\n",
      " [38.4  43.75 43.73]\n",
      " [ 8.7  30.73 30.83]\n",
      " [36.5  43.26 43.29]\n",
      " [17.   36.6  36.65]\n",
      " [30.9  41.81 41.84]\n",
      " [17.3  36.75 36.8 ]\n",
      " [22.5  39.12 39.08]\n",
      " [22.7  39.2  39.16]\n",
      " [29.8  41.55 41.53]\n",
      " [33.5  42.52 42.54]\n",
      " [35.1  42.92 42.95]\n",
      " [34.5  42.77 42.8 ]\n",
      " [ 1.7  17.62 16.65]\n",
      " [ 1.2  14.32 13.62]\n",
      " [36.8  43.33 43.36]\n",
      " [32.7  42.36 42.33]\n",
      " [24.3  39.72 39.75]\n",
      " [15.7  35.9  35.96]\n",
      " [11.3  33.18 33.1 ]\n",
      " [ 7.1  29.19 29.07]\n",
      " [29.3  41.35 41.38]\n",
      " [ 2.1  18.06 18.49]\n",
      " [ 3.7  23.64 23.41]\n",
      " [ 5.6  26.85 27.  ]\n",
      " [ 7.6  29.77 29.66]\n",
      " [15.2  35.62 35.68]\n",
      " [29.7  41.47 41.5 ]\n",
      " [19.7  37.97 37.93]\n",
      " [33.9  42.67 42.65]\n",
      " [ 2.6  20.   20.34]\n",
      " [21.7  38.81 38.77]\n",
      " [26.   40.41 40.34]\n",
      " [ 1.6  15.56 16.12]\n",
      " [ 8.5  30.53 30.63]\n",
      " [15.5  35.79 35.85]\n",
      " [ 1.8  17.62 17.15]\n",
      " [27.2  40.76 40.73]\n",
      " [33.1  42.41 42.44]\n",
      " [14.3  35.21 35.15]\n",
      " [23.6  39.46 39.5 ]\n",
      " [25.   39.97 40.  ]\n",
      " [34.2  42.75 42.72]\n",
      " [ 3.1  21.58 21.87]\n",
      " [35.9  43.12 43.14]\n",
      " [25.2  40.1  40.07]\n",
      " [27.4  40.76 40.8 ]\n",
      " [ 8.9  30.93 31.03]\n",
      " [14.6  35.39 35.33]\n",
      " [17.5  36.85 36.9 ]\n",
      " [ 7.5  29.43 29.54]\n",
      " [ 6.6  28.56 28.43]\n",
      " [10.1  32.21 32.13]\n",
      " [22.1  38.89 38.93]\n",
      " [11.7  33.33 33.4 ]\n",
      " [25.9  40.24 40.31]\n",
      " [26.1  40.41 40.37]]\n"
     ]
    }
   ],
   "source": [
    "y_pred = regressor.predict(X_test)\n",
    "np.set_printoptions(precision=2)\n",
    "print(np.concatenate((X_test,y_pred.reshape(len(y_pred),1), y_test.reshape(len(y_test),1)),1))"
   ]
  },
  {
   "cell_type": "markdown",
   "metadata": {
    "colab_type": "text",
    "id": "V4nELFnnIod1"
   },
   "source": [
    "## Evaluating the Model Performance"
   ]
  },
  {
   "cell_type": "code",
   "execution_count": 6,
   "metadata": {
    "colab": {},
    "colab_type": "code",
    "id": "_G2QS1UoIsTZ"
   },
   "outputs": [
    {
     "data": {
      "text/plain": [
       "0.9993820463858116"
      ]
     },
     "execution_count": 6,
     "metadata": {},
     "output_type": "execute_result"
    }
   ],
   "source": [
    "from sklearn.metrics import r2_score\n",
    "r2_score(y_test, y_pred)"
   ]
  },
  {
   "cell_type": "markdown",
   "metadata": {},
   "source": [
    "## Visualization of the result (Training Set)"
   ]
  },
  {
   "cell_type": "code",
   "execution_count": 8,
   "metadata": {},
   "outputs": [
    {
     "data": {
      "image/png": "[encoded data removed]",
      "text/plain": [
       "<Figure size 432x288 with 1 Axes>"
      ]
     },
     "metadata": {
      "needs_background": "light"
     },
     "output_type": "display_data"
    }
   ],
   "source": [
    "plt.scatter(X_train, y_train, color = 'red')\n",
    "plt.plot(X_train, regressor.predict(X_train), color = 'blue')\n",
    "plt.title('Value of ka and Scattering Field at Forward Direction (Training set)')\n",
    "plt.xlabel('ka')\n",
    "plt.ylabel('Scattering Field at Forward Direction (dB)')\n",
    "plt.show()"
   ]
  },
  {
   "cell_type": "markdown",
   "metadata": {},
   "source": [
    "## Visualization of the result (Test Set)"
   ]
  },
  {
   "cell_type": "code",
   "execution_count": 9,
   "metadata": {},
   "outputs": [
    {
     "data": {
      "image/png": "[encoded data removed]",
      "text/plain": [
       "<Figure size 432x288 with 1 Axes>"
      ]
     },
     "metadata": {
      "needs_background": "light"
     },
     "output_type": "display_data"
    }
   ],
   "source": [
    "plt.scatter(X_test, y_test, color = 'red')\n",
    "plt.plot(X_train, regressor.predict(X_train), color = 'blue')\n",
    "plt.title('Value of ka and Scattering Field at Forward Direction (Test set)')\n",
    "plt.xlabel('ka')\n",
    "plt.ylabel('Scattering Field at Forward Direction (dB)')\n",
    "plt.show()"
   ]
  },
  {
   "cell_type": "code",
   "execution_count": null,
   "metadata": {},
   "outputs": [],
   "source": []
  }
 ],
 "metadata": {
  "colab": {
   "collapsed_sections": [],
   "name": "decision_tree_regression.ipynb",
   "provenance": [],
   "toc_visible": true
  },
  "kernelspec": {
   "display_name": "Python 3",
   "language": "python",
   "name": "python3"
  },
  "language_info": {
   "codemirror_mode": {
    "name": "ipython",
    "version": 3
   },
   "file_extension": ".py",
   "mimetype": "text/x-python",
   "name": "python",
   "nbconvert_exporter": "python",
   "pygments_lexer": "ipython3",
   "version": "3.8.8"
  }
 },
 "nbformat": 4,
 "nbformat_minor": 1
}
