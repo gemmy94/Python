{
 "cells": [
  {
   "cell_type": "markdown",
   "metadata": {
    "colab_type": "text",
    "id": "CazISR8X_HUG"
   },
   "source": [
    "# Multiple Linear Regression"
   ]
  },
  {
   "cell_type": "markdown",
   "metadata": {
    "colab_type": "text",
    "id": "pOyqYHTk_Q57"
   },
   "source": [
    "## Importing the libraries"
   ]
  },
  {
   "cell_type": "code",
   "execution_count": 1,
   "metadata": {
    "colab": {},
    "colab_type": "code",
    "id": "T_YHJjnD_Tja"
   },
   "outputs": [],
   "source": [
    "import numpy as np\n",
    "import matplotlib.pyplot as plt\n",
    "import pandas as pd"
   ]
  },
  {
   "cell_type": "markdown",
   "metadata": {
    "colab_type": "text",
    "id": "vgC61-ah_WIz"
   },
   "source": [
    "## Importing the dataset"
   ]
  },
  {
   "cell_type": "code",
   "execution_count": 2,
   "metadata": {
    "colab": {},
    "colab_type": "code",
    "id": "UrxyEKGn_ez7"
   },
   "outputs": [],
   "source": [
    "dataset = pd.read_csv('Data_E_Peak.csv')\n",
    "X = dataset.iloc[:, :-1].values\n",
    "y = dataset.iloc[:, -1].values"
   ]
  },
  {
   "cell_type": "markdown",
   "metadata": {
    "colab_type": "text",
    "id": "WemVnqgeA70k"
   },
   "source": [
    "## Splitting the dataset into the Training set and Test set"
   ]
  },
  {
   "cell_type": "code",
   "execution_count": 11,
   "metadata": {
    "colab": {},
    "colab_type": "code",
    "id": "Kb_v_ae-A-20"
   },
   "outputs": [],
   "source": [
    "from sklearn.model_selection import train_test_split\n",
    "X_train, X_test, y_train, y_test = train_test_split(X, y, test_size = 0.2, random_state = 0)"
   ]
  },
  {
   "cell_type": "markdown",
   "metadata": {
    "colab_type": "text",
    "id": "k-McZVsQBINc"
   },
   "source": [
    "## Training the Multiple Linear Regression model on the Training set"
   ]
  },
  {
   "cell_type": "code",
   "execution_count": 12,
   "metadata": {
    "colab": {},
    "colab_type": "code",
    "id": "ywPjx0L1BMiD"
   },
   "outputs": [
    {
     "data": {
      "text/plain": [
       "LinearRegression()"
      ]
     },
     "execution_count": 12,
     "metadata": {},
     "output_type": "execute_result"
    }
   ],
   "source": [
    "from sklearn.linear_model import LinearRegression\n",
    "regressor = LinearRegression()\n",
    "regressor.fit(X_train, y_train)"
   ]
  },
  {
   "cell_type": "markdown",
   "metadata": {
    "colab_type": "text",
    "id": "xNkXL1YQBiBT"
   },
   "source": [
    "## Predicting the Test set results"
   ]
  },
  {
   "cell_type": "code",
   "execution_count": 15,
   "metadata": {
    "colab": {},
    "colab_type": "code",
    "id": "TQKmwvtdBkyb"
   },
   "outputs": [
    {
     "name": "stdout",
     "output_type": "stream",
     "text": [
      "[[ 6.5  28.5  28.3 ]\n",
      " [13.5  32.38 34.65]\n",
      " [36.   44.87 43.17]\n",
      " [18.6  35.21 37.43]\n",
      " [29.5  41.26 41.44]\n",
      " [22.4  37.32 39.05]\n",
      " [31.6  42.43 42.03]\n",
      " [29.4  41.21 41.41]\n",
      " [11.1  31.05 32.95]\n",
      " [20.7  36.38 38.36]\n",
      " [15.3  33.38 35.74]\n",
      " [ 4.8  27.55 25.67]\n",
      " [13.3  32.27 34.52]\n",
      " [31.8  42.54 42.09]\n",
      " [25.8  39.21 40.27]\n",
      " [ 7.   28.77 28.94]\n",
      " [ 7.9  29.27 29.99]\n",
      " [17.9  34.83 37.1 ]\n",
      " [26.6  39.65 40.54]\n",
      " [ 6.3  28.39 28.03]\n",
      " [33.7  43.6  42.59]\n",
      " [25.6  39.1  40.21]\n",
      " [38.4  46.2  43.73]\n",
      " [ 8.7  29.72 30.83]\n",
      " [36.5  45.15 43.29]\n",
      " [17.   34.33 36.65]\n",
      " [30.9  42.04 41.84]\n",
      " [17.3  34.49 36.8 ]\n",
      " [22.5  37.38 39.08]\n",
      " [22.7  37.49 39.16]\n",
      " [29.8  41.43 41.53]\n",
      " [33.5  43.48 42.54]\n",
      " [35.1  44.37 42.95]\n",
      " [34.5  44.04 42.8 ]\n",
      " [ 1.7  25.83 16.65]\n",
      " [ 1.2  25.56 13.62]\n",
      " [36.8  45.32 43.36]\n",
      " [32.7  43.04 42.33]\n",
      " [24.3  38.38 39.75]\n",
      " [15.7  33.6  35.96]\n",
      " [11.3  31.16 33.1 ]\n",
      " [ 7.1  28.83 29.07]\n",
      " [29.3  41.15 41.38]\n",
      " [ 2.1  26.06 18.49]\n",
      " [ 3.7  26.94 23.41]\n",
      " [ 5.6  28.   27.  ]\n",
      " [ 7.6  29.11 29.66]\n",
      " [15.2  33.33 35.68]\n",
      " [29.7  41.38 41.5 ]\n",
      " [19.7  35.82 37.93]\n",
      " [33.9  43.71 42.65]\n",
      " [ 2.6  26.33 20.34]\n",
      " [21.7  36.93 38.77]\n",
      " [26.   39.32 40.34]\n",
      " [ 1.6  25.78 16.12]\n",
      " [ 8.5  29.61 30.63]\n",
      " [15.5  33.49 35.85]\n",
      " [ 1.8  25.89 17.15]\n",
      " [27.2  39.99 40.73]\n",
      " [33.1  43.26 42.44]\n",
      " [14.3  32.83 35.15]\n",
      " [23.6  37.99 39.5 ]\n",
      " [25.   38.77 40.  ]\n",
      " [34.2  43.87 42.72]\n",
      " [ 3.1  26.61 21.87]\n",
      " [35.9  44.82 43.14]\n",
      " [25.2  38.88 40.07]\n",
      " [27.4  40.1  40.8 ]\n",
      " [ 8.9  29.83 31.03]\n",
      " [14.6  32.99 35.33]\n",
      " [17.5  34.6  36.9 ]\n",
      " [ 7.5  29.05 29.54]\n",
      " [ 6.6  28.55 28.43]\n",
      " [10.1  30.5  32.13]\n",
      " [22.1  37.16 38.93]\n",
      " [11.7  31.38 33.4 ]\n",
      " [25.9  39.27 40.31]\n",
      " [26.1  39.38 40.37]]\n"
     ]
    }
   ],
   "source": [
    "y_pred = regressor.predict(X_test)\n",
    "np.set_printoptions(precision=2) # Setting printing options: 2 digits of precision for floating point output\n",
    "print(np.concatenate((X_test,y_pred.reshape(len(y_pred),1), y_test.reshape(len(y_test),1)),1))"
   ]
  },
  {
   "cell_type": "markdown",
   "metadata": {
    "colab_type": "text",
    "id": "50DZZy0UyhLi"
   },
   "source": [
    "## Evaluating the Model Performance"
   ]
  },
  {
   "cell_type": "code",
   "execution_count": 14,
   "metadata": {
    "colab": {},
    "colab_type": "code",
    "id": "xPagAOKDywV4"
   },
   "outputs": [
    {
     "data": {
      "text/plain": [
       "0.8437589783127231"
      ]
     },
     "execution_count": 14,
     "metadata": {},
     "output_type": "execute_result"
    }
   ],
   "source": [
    "from sklearn.metrics import r2_score\n",
    "r2_score(y_test, y_pred)"
   ]
  },
  {
   "cell_type": "markdown",
   "metadata": {},
   "source": [
    "## Visualization of the result (Training Set)"
   ]
  },
  {
   "cell_type": "code",
   "execution_count": 16,
   "metadata": {},
   "outputs": [
    {
     "data": {
      "image/png": "[encoded data removed]",
      "text/plain": [
       "<Figure size 432x288 with 1 Axes>"
      ]
     },
     "metadata": {
      "needs_background": "light"
     },
     "output_type": "display_data"
    }
   ],
   "source": [
    "plt.scatter(X_train, y_train, color = 'red')\n",
    "plt.plot(X_train, regressor.predict(X_train), color = 'blue')\n",
    "plt.title('Value of ka and Scattering Field at Forward Direction (Training set)')\n",
    "plt.xlabel('ka')\n",
    "plt.ylabel('Scattering Field at Forward Direction (dB)')\n",
    "plt.show()"
   ]
  },
  {
   "cell_type": "markdown",
   "metadata": {},
   "source": [
    "## Visualization of the result (Test Set)"
   ]
  },
  {
   "cell_type": "code",
   "execution_count": 17,
   "metadata": {},
   "outputs": [
    {
     "data": {
      "image/png": "[encoded data removed]",
      "text/plain": [
       "<Figure size 432x288 with 1 Axes>"
      ]
     },
     "metadata": {
      "needs_background": "light"
     },
     "output_type": "display_data"
    }
   ],
   "source": [
    "plt.scatter(X_test, y_test, color = 'red')\n",
    "plt.plot(X_train, regressor.predict(X_train), color = 'blue')\n",
    "plt.title('Value of ka and Scattering Field at Forward Direction (Test set)')\n",
    "plt.xlabel('ka')\n",
    "plt.ylabel('Scattering Field at Forward Direction (dB)')\n",
    "plt.show()"
   ]
  },
  {
   "cell_type": "code",
   "execution_count": null,
   "metadata": {},
   "outputs": [],
   "source": []
  }
 ],
 "metadata": {
  "colab": {
   "collapsed_sections": [],
   "name": "multiple_linear_regression.ipynb",
   "provenance": [],
   "toc_visible": true
  },
  "kernelspec": {
   "display_name": "Python 3",
   "language": "python",
   "name": "python3"
  },
  "language_info": {
   "codemirror_mode": {
    "name": "ipython",
    "version": 3
   },
   "file_extension": ".py",
   "mimetype": "text/x-python",
   "name": "python",
   "nbconvert_exporter": "python",
   "pygments_lexer": "ipython3",
   "version": "3.8.8"
  }
 },
 "nbformat": 4,
 "nbformat_minor": 1
}
