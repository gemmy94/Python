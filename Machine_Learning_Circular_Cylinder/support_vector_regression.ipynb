{
 "cells": [
  {
   "cell_type": "markdown",
   "metadata": {
    "colab_type": "text",
    "id": "m3PAEPRDRLA3"
   },
   "source": [
    "# Support Vector Regression (SVR)"
   ]
  },
  {
   "cell_type": "markdown",
   "metadata": {
    "colab_type": "text",
    "id": "0VCUAVIjRdzZ"
   },
   "source": [
    "## Importing the libraries"
   ]
  },
  {
   "cell_type": "code",
   "execution_count": 1,
   "metadata": {
    "colab": {},
    "colab_type": "code",
    "id": "56oRF-QfSDzC"
   },
   "outputs": [],
   "source": [
    "import numpy as np\n",
    "import matplotlib.pyplot as plt\n",
    "import pandas as pd"
   ]
  },
  {
   "cell_type": "markdown",
   "metadata": {
    "colab_type": "text",
    "id": "fXVXoFWtSF4_"
   },
   "source": [
    "## Importing the dataset"
   ]
  },
  {
   "cell_type": "code",
   "execution_count": 2,
   "metadata": {
    "colab": {},
    "colab_type": "code",
    "id": "xfoa8OSORfHQ"
   },
   "outputs": [],
   "source": [
    "dataset = pd.read_csv('Data_E_Peak.csv')\n",
    "X = dataset.iloc[:, :-1].values\n",
    "y = dataset.iloc[:, -1].values"
   ]
  },
  {
   "cell_type": "code",
   "execution_count": 3,
   "metadata": {
    "colab": {},
    "colab_type": "code",
    "id": "_8Ny1GfPiV3m"
   },
   "outputs": [],
   "source": [
    "y = y.reshape(len(y),1)"
   ]
  },
  {
   "cell_type": "markdown",
   "metadata": {
    "colab_type": "text",
    "id": "6Vk3nNlrCVCN"
   },
   "source": [
    "## Splitting the dataset into the Training set and Test set"
   ]
  },
  {
   "cell_type": "code",
   "execution_count": 4,
   "metadata": {
    "colab": {},
    "colab_type": "code",
    "id": "x_fXqrziCV3_"
   },
   "outputs": [],
   "source": [
    "from sklearn.model_selection import train_test_split\n",
    "X_train, X_test, y_train, y_test = train_test_split(X, y, test_size = 0.2, random_state = 0)"
   ]
  },
  {
   "cell_type": "markdown",
   "metadata": {
    "colab_type": "text",
    "id": "YS8FeLHYS-nI"
   },
   "source": [
    "## Feature Scaling"
   ]
  },
  {
   "cell_type": "code",
   "execution_count": 5,
   "metadata": {
    "colab": {},
    "colab_type": "code",
    "id": "PGeAlD1HTDI1"
   },
   "outputs": [],
   "source": [
    "from sklearn.preprocessing import StandardScaler\n",
    "sc_X = StandardScaler()\n",
    "sc_y = StandardScaler()\n",
    "X_train = sc_X.fit_transform(X_train)\n",
    "y_train = sc_y.fit_transform(y_train)"
   ]
  },
  {
   "cell_type": "markdown",
   "metadata": {
    "colab_type": "text",
    "id": "eiU6D2QFRjxY"
   },
   "source": [
    "## Training the SVR model on the Training set"
   ]
  },
  {
   "cell_type": "code",
   "execution_count": 6,
   "metadata": {
    "colab": {},
    "colab_type": "code",
    "id": "y6R4rt_GRz15"
   },
   "outputs": [
    {
     "name": "stderr",
     "output_type": "stream",
     "text": [
      "C:\\Users\\user\\anaconda3\\lib\\site-packages\\sklearn\\utils\\validation.py:63: DataConversionWarning: A column-vector y was passed when a 1d array was expected. Please change the shape of y to (n_samples, ), for example using ravel().\n",
      "  return f(*args, **kwargs)\n"
     ]
    },
    {
     "data": {
      "text/plain": [
       "SVR()"
      ]
     },
     "execution_count": 6,
     "metadata": {},
     "output_type": "execute_result"
    }
   ],
   "source": [
    "from sklearn.svm import SVR\n",
    "regressor = SVR(kernel = 'rbf')\n",
    "regressor.fit(X_train, y_train)"
   ]
  },
  {
   "cell_type": "markdown",
   "metadata": {
    "colab_type": "text",
    "id": "aPYA5W1pDBOE"
   },
   "source": [
    "## Predicting the Test set results"
   ]
  },
  {
   "cell_type": "code",
   "execution_count": 7,
   "metadata": {
    "colab": {},
    "colab_type": "code",
    "id": "vSqFVDYrDROW"
   },
   "outputs": [
    {
     "name": "stdout",
     "output_type": "stream",
     "text": [
      "[[27.99 28.3 ]\n",
      " [35.03 34.65]\n",
      " [43.11 43.17]\n",
      " [36.89 37.43]\n",
      " [40.88 41.44]\n",
      " [38.37 39.05]\n",
      " [41.63 42.03]\n",
      " [40.84 41.41]\n",
      " [33.62 32.95]\n",
      " [37.7  38.36]\n",
      " [35.73 35.74]\n",
      " [24.94 25.67]\n",
      " [34.93 34.52]\n",
      " [41.7  42.09]\n",
      " [39.62 40.27]\n",
      " [28.81 28.94]\n",
      " [30.17 29.99]\n",
      " [36.64 37.1 ]\n",
      " [39.89 40.54]\n",
      " [27.65 28.03]\n",
      " [42.4  42.59]\n",
      " [39.55 40.21]\n",
      " [43.47 43.73]\n",
      " [31.23 30.83]\n",
      " [43.22 43.29]\n",
      " [36.32 36.65]\n",
      " [41.37 41.84]\n",
      " [36.42 36.8 ]\n",
      " [38.41 39.08]\n",
      " [38.49 39.16]\n",
      " [40.98 41.53]\n",
      " [42.32 42.54]\n",
      " [42.86 42.95]\n",
      " [42.67 42.8 ]\n",
      " [19.32 16.65]\n",
      " [18.55 13.62]\n",
      " [43.28 43.36]\n",
      " [42.03 42.33]\n",
      " [39.09 39.75]\n",
      " [35.87 35.96]\n",
      " [33.77 33.1 ]\n",
      " [28.97 29.07]\n",
      " [40.81 41.38]\n",
      " [19.99 18.49]\n",
      " [22.87 23.41]\n",
      " [26.41 27.  ]\n",
      " [29.73 29.66]\n",
      " [35.69 35.68]\n",
      " [40.95 41.5 ]\n",
      " [37.31 37.93]\n",
      " [42.46 42.65]\n",
      " [20.85 20.34]\n",
      " [38.1  38.77]\n",
      " [39.69 40.34]\n",
      " [19.16 16.12]\n",
      " [30.98 30.63]\n",
      " [35.8  35.85]\n",
      " [19.49 17.15]\n",
      " [40.09 40.73]\n",
      " [42.18 42.44]\n",
      " [35.36 35.15]\n",
      " [38.83 39.5 ]\n",
      " [39.34 40.  ]\n",
      " [42.57 42.72]\n",
      " [21.76 21.87]\n",
      " [43.08 43.14]\n",
      " [39.41 40.07]\n",
      " [40.16 40.8 ]\n",
      " [31.48 31.03]\n",
      " [35.47 35.33]\n",
      " [36.49 36.9 ]\n",
      " [29.58 29.54]\n",
      " [28.15 28.43]\n",
      " [32.77 32.13]\n",
      " [38.25 38.93]\n",
      " [34.05 33.4 ]\n",
      " [39.65 40.31]\n",
      " [39.72 40.37]]\n"
     ]
    }
   ],
   "source": [
    "y_pred = sc_y.inverse_transform(regressor.predict(sc_X.transform(X_test)))\n",
    "np.set_printoptions(precision=2)\n",
    "print(np.concatenate((y_pred.reshape(len(y_pred),1), y_test.reshape(len(y_test),1)),1))"
   ]
  },
  {
   "cell_type": "markdown",
   "metadata": {
    "colab_type": "text",
    "id": "CMsYlps2DX1d"
   },
   "source": [
    "## Evaluating the Model Performance"
   ]
  },
  {
   "cell_type": "code",
   "execution_count": 8,
   "metadata": {
    "colab": {},
    "colab_type": "code",
    "id": "HxsRWlURDr6S"
   },
   "outputs": [
    {
     "data": {
      "text/plain": [
       "0.9852860813835258"
      ]
     },
     "execution_count": 8,
     "metadata": {},
     "output_type": "execute_result"
    }
   ],
   "source": [
    "from sklearn.metrics import r2_score\n",
    "r2_score(y_test, y_pred)"
   ]
  }
 ],
 "metadata": {
  "colab": {
   "collapsed_sections": [],
   "name": "support_vector_regression.ipynb",
   "provenance": [],
   "toc_visible": true
  },
  "kernelspec": {
   "display_name": "Python 3",
   "language": "python",
   "name": "python3"
  },
  "language_info": {
   "codemirror_mode": {
    "name": "ipython",
    "version": 3
   },
   "file_extension": ".py",
   "mimetype": "text/x-python",
   "name": "python",
   "nbconvert_exporter": "python",
   "pygments_lexer": "ipython3",
   "version": "3.8.8"
  }
 },
 "nbformat": 4,
 "nbformat_minor": 1
}
