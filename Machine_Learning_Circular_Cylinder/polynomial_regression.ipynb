{
 "cells": [
  {
   "cell_type": "markdown",
   "metadata": {
    "colab_type": "text",
    "id": "vN99YjPTDena"
   },
   "source": [
    "# Polynomial Regression"
   ]
  },
  {
   "cell_type": "markdown",
   "metadata": {
    "colab_type": "text",
    "id": "ZIx_naXnDyHd"
   },
   "source": [
    "## Importing the libraries"
   ]
  },
  {
   "cell_type": "code",
   "execution_count": 1,
   "metadata": {
    "colab": {},
    "colab_type": "code",
    "id": "FjnmdyPLD2tS"
   },
   "outputs": [],
   "source": [
    "import numpy as np\n",
    "import matplotlib.pyplot as plt\n",
    "import pandas as pd"
   ]
  },
  {
   "cell_type": "markdown",
   "metadata": {
    "colab_type": "text",
    "id": "6c8YExmOD5x5"
   },
   "source": [
    "## Importing the dataset"
   ]
  },
  {
   "cell_type": "code",
   "execution_count": 2,
   "metadata": {
    "colab": {},
    "colab_type": "code",
    "id": "nQOdXhjXD_AE"
   },
   "outputs": [],
   "source": [
    "dataset = pd.read_csv('Data_E_Peak.csv')\n",
    "X = dataset.iloc[:, :-1].values\n",
    "y = dataset.iloc[:, -1].values"
   ]
  },
  {
   "cell_type": "markdown",
   "metadata": {
    "colab_type": "text",
    "id": "Ud_1XTb28iXH"
   },
   "source": [
    "## Splitting the dataset into the Training set and Test set"
   ]
  },
  {
   "cell_type": "code",
   "execution_count": 3,
   "metadata": {
    "colab": {},
    "colab_type": "code",
    "id": "bUib_pbl8ipB"
   },
   "outputs": [],
   "source": [
    "from sklearn.model_selection import train_test_split\n",
    "X_train, X_test, y_train, y_test = train_test_split(X, y, test_size = 0.2, random_state = 0)"
   ]
  },
  {
   "cell_type": "markdown",
   "metadata": {
    "colab_type": "text",
    "id": "Rb5nWuSHEfBV"
   },
   "source": [
    "## Training the Polynomial Regression model on the Training set"
   ]
  },
  {
   "cell_type": "code",
   "execution_count": 4,
   "metadata": {
    "colab": {},
    "colab_type": "code",
    "id": "HYplp4pTEm0O"
   },
   "outputs": [
    {
     "data": {
      "text/plain": [
       "LinearRegression()"
      ]
     },
     "execution_count": 4,
     "metadata": {},
     "output_type": "execute_result"
    }
   ],
   "source": [
    "from sklearn.preprocessing import PolynomialFeatures\n",
    "from sklearn.linear_model import LinearRegression\n",
    "poly_reg = PolynomialFeatures(degree = 4)\n",
    "X_poly = poly_reg.fit_transform(X_train)\n",
    "regressor = LinearRegression()\n",
    "regressor.fit(X_poly, y_train)"
   ]
  },
  {
   "cell_type": "markdown",
   "metadata": {
    "colab_type": "text",
    "id": "pzF3BRps9nlk"
   },
   "source": [
    "## Predicting the Test set results"
   ]
  },
  {
   "cell_type": "code",
   "execution_count": 5,
   "metadata": {
    "colab": {},
    "colab_type": "code",
    "id": "36aFLFBK9pMk"
   },
   "outputs": [
    {
     "name": "stdout",
     "output_type": "stream",
     "text": [
      "[[ 6.5  27.93 28.3 ]\n",
      " [13.5  35.   34.65]\n",
      " [36.   43.42 43.17]\n",
      " [18.6  37.43 37.43]\n",
      " [29.5  41.4  41.44]\n",
      " [22.4  38.8  39.05]\n",
      " [31.6  42.16 42.03]\n",
      " [29.4  41.36 41.41]\n",
      " [11.1  33.27 32.95]\n",
      " [20.7  38.2  38.36]\n",
      " [15.3  36.   35.74]\n",
      " [ 4.8  24.99 25.67]\n",
      " [13.3  34.88 34.52]\n",
      " [31.8  42.23 42.09]\n",
      " [25.8  40.02 40.27]\n",
      " [ 7.   28.68 28.94]\n",
      " [ 7.9  29.91 29.99]\n",
      " [17.9  37.16 37.1 ]\n",
      " [26.6  40.31 40.54]\n",
      " [ 6.3  27.62 28.03]\n",
      " [33.7  42.85 42.59]\n",
      " [25.6  39.95 40.21]\n",
      " [38.4  43.67 43.73]\n",
      " [ 8.7  30.89 30.83]\n",
      " [36.5  43.51 43.29]\n",
      " [17.   36.79 36.65]\n",
      " [30.9  41.91 41.84]\n",
      " [17.3  36.91 36.8 ]\n",
      " [22.5  38.84 39.08]\n",
      " [22.7  38.91 39.16]\n",
      " [29.8  41.51 41.53]\n",
      " [33.5  42.79 42.54]\n",
      " [35.1  43.23 42.95]\n",
      " [34.5  43.08 42.8 ]\n",
      " [ 1.7  17.75 16.65]\n",
      " [ 1.2  16.32 13.62]\n",
      " [36.8  43.55 43.36]\n",
      " [32.7  42.54 42.33]\n",
      " [24.3  39.48 39.75]\n",
      " [15.7  36.2  35.96]\n",
      " [11.3  33.44 33.1 ]\n",
      " [ 7.1  28.83 29.07]\n",
      " [29.3  41.32 41.38]\n",
      " [ 2.1  18.84 18.49]\n",
      " [ 3.7  22.72 23.41]\n",
      " [ 5.6  26.45 27.  ]\n",
      " [ 7.6  29.52 29.66]\n",
      " [15.2  35.95 35.68]\n",
      " [29.7  41.47 41.5 ]\n",
      " [19.7  37.84 37.93]\n",
      " [33.9  42.91 42.65]\n",
      " [ 2.6  20.13 20.34]\n",
      " [21.7  38.56 38.77]\n",
      " [26.   40.09 40.34]\n",
      " [ 1.6  17.47 16.12]\n",
      " [ 8.5  30.66 30.63]\n",
      " [15.5  36.1  35.85]\n",
      " [ 1.8  18.03 17.15]\n",
      " [27.2  40.54 40.73]\n",
      " [33.1  42.67 42.44]\n",
      " [14.3  35.47 35.15]\n",
      " [23.6  39.23 39.5 ]\n",
      " [25.   39.73 40.  ]\n",
      " [34.2  43.   42.72]\n",
      " [ 3.1  21.35 21.87]\n",
      " [35.9  43.4  43.14]\n",
      " [25.2  39.8  40.07]\n",
      " [27.4  40.61 40.8 ]\n",
      " [ 8.9  31.12 31.03]\n",
      " [14.6  35.64 35.33]\n",
      " [17.5  37.   36.9 ]\n",
      " [ 7.5  29.38 29.54]\n",
      " [ 6.6  28.08 28.43]\n",
      " [10.1  32.37 32.13]\n",
      " [22.1  38.7  38.93]\n",
      " [11.7  33.76 33.4 ]\n",
      " [25.9  40.06 40.31]\n",
      " [26.1  40.13 40.37]]\n"
     ]
    }
   ],
   "source": [
    "y_pred = regressor.predict(poly_reg.transform(X_test))\n",
    "np.set_printoptions(precision=2)\n",
    "print(np.concatenate((X_test,y_pred.reshape(len(y_pred),1), y_test.reshape(len(y_test),1)),1))"
   ]
  },
  {
   "cell_type": "markdown",
   "metadata": {
    "colab_type": "text",
    "id": "Fz1uTlWV919-"
   },
   "source": [
    "## Evaluating the Model Performance"
   ]
  },
  {
   "cell_type": "code",
   "execution_count": 6,
   "metadata": {
    "colab": {},
    "colab_type": "code",
    "id": "xvZQ_4W893-e"
   },
   "outputs": [
    {
     "data": {
      "text/plain": [
       "0.9962608351967658"
      ]
     },
     "execution_count": 6,
     "metadata": {},
     "output_type": "execute_result"
    }
   ],
   "source": [
    "from sklearn.metrics import r2_score\n",
    "r2_score(y_test, y_pred)"
   ]
  },
  {
   "cell_type": "code",
   "execution_count": null,
   "metadata": {},
   "outputs": [],
   "source": []
  }
 ],
 "metadata": {
  "colab": {
   "collapsed_sections": [],
   "name": "polynomial_regression.ipynb",
   "provenance": [],
   "toc_visible": true
  },
  "kernelspec": {
   "display_name": "Python 3",
   "language": "python",
   "name": "python3"
  },
  "language_info": {
   "codemirror_mode": {
    "name": "ipython",
    "version": 3
   },
   "file_extension": ".py",
   "mimetype": "text/x-python",
   "name": "python",
   "nbconvert_exporter": "python",
   "pygments_lexer": "ipython3",
   "version": "3.8.8"
  }
 },
 "nbformat": 4,
 "nbformat_minor": 1
}
