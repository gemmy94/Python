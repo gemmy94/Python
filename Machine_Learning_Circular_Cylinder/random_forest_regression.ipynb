{
 "cells": [
  {
   "cell_type": "markdown",
   "metadata": {
    "colab_type": "text",
    "id": "LeamvpPVXuS_"
   },
   "source": [
    "# Random Forest Regression"
   ]
  },
  {
   "cell_type": "markdown",
   "metadata": {
    "colab_type": "text",
    "id": "O2wvZ7SKXzVC"
   },
   "source": [
    "## Importing the libraries"
   ]
  },
  {
   "cell_type": "code",
   "execution_count": 1,
   "metadata": {
    "colab": {},
    "colab_type": "code",
    "id": "PVmESEFZX4Ig"
   },
   "outputs": [],
   "source": [
    "import numpy as np\n",
    "import matplotlib.pyplot as plt\n",
    "import pandas as pd"
   ]
  },
  {
   "cell_type": "markdown",
   "metadata": {
    "colab_type": "text",
    "id": "zgbK_F8-X7em"
   },
   "source": [
    "## Importing the dataset"
   ]
  },
  {
   "cell_type": "code",
   "execution_count": 2,
   "metadata": {
    "colab": {},
    "colab_type": "code",
    "id": "adBE4tjQX_Bh"
   },
   "outputs": [],
   "source": [
    "dataset = pd.read_csv('Data_E_Peak.csv')\n",
    "X = dataset.iloc[:, :-1].values\n",
    "y = dataset.iloc[:, -1].values"
   ]
  },
  {
   "cell_type": "markdown",
   "metadata": {
    "colab_type": "text",
    "id": "ptNjcy7bOBlD"
   },
   "source": [
    "## Splitting the dataset into the Training set and Test set"
   ]
  },
  {
   "cell_type": "code",
   "execution_count": 3,
   "metadata": {
    "colab": {},
    "colab_type": "code",
    "id": "C7NdofoCOFQF"
   },
   "outputs": [],
   "source": [
    "from sklearn.model_selection import train_test_split\n",
    "X_train, X_test, y_train, y_test = train_test_split(X, y, test_size = 0.2, random_state = 0)"
   ]
  },
  {
   "cell_type": "markdown",
   "metadata": {
    "colab_type": "text",
    "id": "v4S2fyIBYDcu"
   },
   "source": [
    "## Training the Random Forest Regression model on the whole dataset"
   ]
  },
  {
   "cell_type": "code",
   "execution_count": 4,
   "metadata": {
    "colab": {},
    "colab_type": "code",
    "id": "o8dOCoJ1YKMc"
   },
   "outputs": [
    {
     "data": {
      "text/plain": [
       "RandomForestRegressor(n_estimators=10, random_state=0)"
      ]
     },
     "execution_count": 4,
     "metadata": {},
     "output_type": "execute_result"
    }
   ],
   "source": [
    "from sklearn.ensemble import RandomForestRegressor\n",
    "regressor = RandomForestRegressor(n_estimators = 10, random_state = 0)\n",
    "regressor.fit(X_train, y_train)"
   ]
  },
  {
   "cell_type": "markdown",
   "metadata": {
    "colab_type": "text",
    "id": "DM_jh0frOPKE"
   },
   "source": [
    "## Predicting the Test set results"
   ]
  },
  {
   "cell_type": "code",
   "execution_count": 5,
   "metadata": {
    "colab": {},
    "colab_type": "code",
    "id": "JGa9ZfM4OTNw"
   },
   "outputs": [
    {
     "name": "stdout",
     "output_type": "stream",
     "text": [
      "[[28.28 28.3 ]\n",
      " [34.62 34.65]\n",
      " [43.16 43.17]\n",
      " [37.44 37.43]\n",
      " [41.43 41.44]\n",
      " [39.01 39.05]\n",
      " [42.03 42.03]\n",
      " [41.36 41.41]\n",
      " [32.94 32.95]\n",
      " [38.39 38.36]\n",
      " [35.76 35.74]\n",
      " [25.74 25.67]\n",
      " [34.52 34.52]\n",
      " [42.09 42.09]\n",
      " [40.21 40.27]\n",
      " [28.84 28.94]\n",
      " [29.96 29.99]\n",
      " [37.06 37.1 ]\n",
      " [40.51 40.54]\n",
      " [28.04 28.03]\n",
      " [42.61 42.59]\n",
      " [40.19 40.21]\n",
      " [43.74 43.73]\n",
      " [30.71 30.83]\n",
      " [43.26 43.29]\n",
      " [36.62 36.65]\n",
      " [41.83 41.84]\n",
      " [36.76 36.8 ]\n",
      " [39.1  39.08]\n",
      " [39.18 39.16]\n",
      " [41.53 41.53]\n",
      " [42.52 42.54]\n",
      " [42.94 42.95]\n",
      " [42.78 42.8 ]\n",
      " [17.46 16.65]\n",
      " [14.9  13.62]\n",
      " [43.35 43.36]\n",
      " [42.32 42.33]\n",
      " [39.73 39.75]\n",
      " [35.96 35.96]\n",
      " [33.16 33.1 ]\n",
      " [29.19 29.07]\n",
      " [41.33 41.38]\n",
      " [18.1  18.49]\n",
      " [23.32 23.41]\n",
      " [26.97 27.  ]\n",
      " [29.71 29.66]\n",
      " [35.61 35.68]\n",
      " [41.51 41.5 ]\n",
      " [37.95 37.93]\n",
      " [42.66 42.65]\n",
      " [20.13 20.34]\n",
      " [38.8  38.77]\n",
      " [40.32 40.34]\n",
      " [15.93 16.12]\n",
      " [30.59 30.63]\n",
      " [35.83 35.85]\n",
      " [17.71 17.15]\n",
      " [40.73 40.73]\n",
      " [42.42 42.44]\n",
      " [35.17 35.15]\n",
      " [39.51 39.5 ]\n",
      " [39.98 40.  ]\n",
      " [42.73 42.72]\n",
      " [21.64 21.87]\n",
      " [43.14 43.14]\n",
      " [40.07 40.07]\n",
      " [40.79 40.8 ]\n",
      " [31.06 31.03]\n",
      " [35.35 35.33]\n",
      " [36.86 36.9 ]\n",
      " [29.4  29.54]\n",
      " [28.48 28.43]\n",
      " [32.25 32.13]\n",
      " [38.93 38.93]\n",
      " [33.32 33.4 ]\n",
      " [40.29 40.31]\n",
      " [40.43 40.37]]\n"
     ]
    }
   ],
   "source": [
    "y_pred = regressor.predict(X_test)\n",
    "np.set_printoptions(precision=2)\n",
    "print(np.concatenate((y_pred.reshape(len(y_pred),1), y_test.reshape(len(y_test),1)),1))"
   ]
  },
  {
   "cell_type": "markdown",
   "metadata": {
    "colab_type": "text",
    "id": "Cd8VZM5POWXN"
   },
   "source": [
    "## Evaluating the Model Performance"
   ]
  },
  {
   "cell_type": "code",
   "execution_count": 6,
   "metadata": {
    "colab": {},
    "colab_type": "code",
    "id": "a7y1rXlfOZJo"
   },
   "outputs": [
    {
     "data": {
      "text/plain": [
       "0.9993134471594238"
      ]
     },
     "execution_count": 6,
     "metadata": {},
     "output_type": "execute_result"
    }
   ],
   "source": [
    "from sklearn.metrics import r2_score\n",
    "r2_score(y_test, y_pred)"
   ]
  }
 ],
 "metadata": {
  "colab": {
   "collapsed_sections": [],
   "name": "random_forest_regression.ipynb",
   "provenance": [],
   "toc_visible": true
  },
  "kernelspec": {
   "display_name": "Python 3",
   "language": "python",
   "name": "python3"
  },
  "language_info": {
   "codemirror_mode": {
    "name": "ipython",
    "version": 3
   },
   "file_extension": ".py",
   "mimetype": "text/x-python",
   "name": "python",
   "nbconvert_exporter": "python",
   "pygments_lexer": "ipython3",
   "version": "3.8.8"
  }
 },
 "nbformat": 4,
 "nbformat_minor": 1
}
